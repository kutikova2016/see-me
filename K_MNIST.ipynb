{
  "nbformat": 4,
  "nbformat_minor": 0,
  "metadata": {
    "colab": {
      "name": "K_MNIST.ipynb",
      "provenance": [],
      "authorship_tag": "ABX9TyOtmrD8IhyhH6w8LLxz/TrA",
      "include_colab_link": true
    },
    "kernelspec": {
      "name": "python3",
      "display_name": "Python 3"
    }
  },
  "cells": [
    {
      "cell_type": "markdown",
      "metadata": {
        "id": "view-in-github",
        "colab_type": "text"
      },
      "source": [
        "<a href=\"https://colab.research.google.com/github/kutikova2016/see-me/blob/master/K_MNIST.ipynb\" target=\"_parent\"><img src=\"https://colab.research.google.com/assets/colab-badge.svg\" alt=\"Open In Colab\"/></a>"
      ]
    },
    {
      "cell_type": "code",
      "metadata": {
        "id": "Roy2cMGPNvuP",
        "colab_type": "code",
        "outputId": "c2191181-b233-43ac-dc96-a5390301eb40",
        "colab": {
          "base_uri": "https://localhost:8080/",
          "height": 293
        }
      },
      "source": [
        "#написал на этой неделе лично Кутиков Иван\n",
        "#по шаблону с курса \"Компьютерное зрение\" от Samsung\n",
        "#С API  Kaggle разбирался самостоятельно\n",
        "#Score 0.95742\n",
        "!pip install kaggle --upgrade\n",
        "!mkdir ~/.kaggle\n",
        "!touch ~/.kaggle/kaggle.json\n",
        "api_token = {\"username\":\"nontar\",\"key\":\"e2a8107e332106824a40ef9ba54c1f31\"}\n",
        "import json\n",
        "with open('/root/.kaggle/kaggle.json', 'w') as file:\n",
        "    json.dump(api_token, file)\n",
        "!chmod 600 ~/.kaggle/kaggle.json\n",
        "!kaggle -v\n",
        "!kaggle competitions download -c digit-recognizer"
      ],
      "execution_count": 0,
      "outputs": [
        {
          "output_type": "stream",
          "text": [
            "Requirement already up-to-date: kaggle in /usr/local/lib/python3.6/dist-packages (1.5.6)\n",
            "Requirement already satisfied, skipping upgrade: python-dateutil in /usr/local/lib/python3.6/dist-packages (from kaggle) (2.6.1)\n",
            "Requirement already satisfied, skipping upgrade: tqdm in /usr/local/lib/python3.6/dist-packages (from kaggle) (4.28.1)\n",
            "Requirement already satisfied, skipping upgrade: six>=1.10 in /usr/local/lib/python3.6/dist-packages (from kaggle) (1.12.0)\n",
            "Requirement already satisfied, skipping upgrade: requests in /usr/local/lib/python3.6/dist-packages (from kaggle) (2.21.0)\n",
            "Requirement already satisfied, skipping upgrade: python-slugify in /usr/local/lib/python3.6/dist-packages (from kaggle) (4.0.0)\n",
            "Requirement already satisfied, skipping upgrade: urllib3<1.25,>=1.21.1 in /usr/local/lib/python3.6/dist-packages (from kaggle) (1.24.3)\n",
            "Requirement already satisfied, skipping upgrade: certifi in /usr/local/lib/python3.6/dist-packages (from kaggle) (2019.11.28)\n",
            "Requirement already satisfied, skipping upgrade: chardet<3.1.0,>=3.0.2 in /usr/local/lib/python3.6/dist-packages (from requests->kaggle) (3.0.4)\n",
            "Requirement already satisfied, skipping upgrade: idna<2.9,>=2.5 in /usr/local/lib/python3.6/dist-packages (from requests->kaggle) (2.8)\n",
            "Requirement already satisfied, skipping upgrade: text-unidecode>=1.3 in /usr/local/lib/python3.6/dist-packages (from python-slugify->kaggle) (1.3)\n",
            "mkdir: cannot create directory ‘/root/.kaggle’: File exists\n",
            "Kaggle API 1.5.4\n",
            "Warning: Looks like you're using an outdated API Version, please consider updating (server 1.5.6 / client 1.5.4)\n",
            "sample_submission.csv: Skipping, found more recently modified local copy (use --force to force download)\n",
            "test.csv.zip: Skipping, found more recently modified local copy (use --force to force download)\n",
            "train.csv.zip: Skipping, found more recently modified local copy (use --force to force download)\n"
          ],
          "name": "stdout"
        }
      ]
    },
    {
      "cell_type": "code",
      "metadata": {
        "id": "uYuxT5KHOHxo",
        "colab_type": "code",
        "colab": {}
      },
      "source": [
        "import numpy as np\n",
        "import pandas as pd\n",
        "import torch\n",
        "import random\n",
        "import matplotlib.pyplot as plt\n",
        "random.seed(0)\n",
        "np.random.seed(0)\n",
        "torch.manual_seed(0)\n",
        "torch.backends.cudnn.deterministic = True"
      ],
      "execution_count": 0,
      "outputs": []
    },
    {
      "cell_type": "code",
      "metadata": {
        "id": "zlqCqJrAXe9f",
        "colab_type": "code",
        "colab": {}
      },
      "source": [
        "test = pd.read_csv('test.csv.zip', compression='zip')\n",
        "train = pd.read_csv('train.csv.zip', compression='zip')\n",
        "y_train = torch.from_numpy(np.array(train['label']))\n",
        "torch_train = torch.Tensor(len(train), 1, 28, 28)\n",
        "for i in range(len(train)):\n",
        "    st = train.iloc[i]\n",
        "    N = np.array(st[1:])\n",
        "    N = N.reshape((28, 28))\n",
        "    T = torch.from_numpy(N)\n",
        "    torch_train[i][0] = T\n",
        "L = len(torch_train)\n",
        "assert len(y_train) == L, L\n",
        "L = int(L*0.9)\n",
        "X_train, X_valid = torch_train[:L], torch_train[L:]\n",
        "y_train, y_valid = y_train[:L], y_train[L:]"
      ],
      "execution_count": 0,
      "outputs": []
    },
    {
      "cell_type": "code",
      "metadata": {
        "id": "AcyGInYAadJs",
        "colab_type": "code",
        "colab": {}
      },
      "source": [
        "class LeNet5(torch.nn.Module):\n",
        "    def __init__(self):\n",
        "        super(LeNet5, self).__init__()\n",
        "        self.conv0 = torch.nn.Conv2d(in_channels=1, out_channels=1, kernel_size=3, padding=1)\n",
        "        self.act0  = torch.nn.Tanh()\n",
        "        self.pool0 = torch.nn.MaxPool2d(kernel_size=2, stride=1)\n",
        "\n",
        "        self.conv1 = torch.nn.Conv2d(in_channels=1, out_channels=20, kernel_size=3, padding=1)\n",
        "        self.act1  = torch.nn.Tanh()\n",
        "        self.pool1 = torch.nn.MaxPool2d(kernel_size=2, stride=2)\n",
        "\n",
        "        self.conv2 = torch.nn.Conv2d(in_channels=20, out_channels=16, kernel_size=5, padding=0)\n",
        "        self.act2  = torch.nn.Tanh()\n",
        "        self.pool2 = torch.nn.MaxPool2d(kernel_size=2, stride=2)\n",
        "        \n",
        "        self.fc3   = torch.nn.Linear(4*4*16, 800)\n",
        "        self.act3  = torch.nn.Tanh()\n",
        "        self.drop3 = torch.nn.Dropout(p=0.8)\n",
        "\n",
        "        self.fc4   = torch.nn.Linear(800, 400)\n",
        "        self.act4  = torch.nn.ReLU()\n",
        "        self.drop4 = torch.nn.Dropout(p=0.8)\n",
        "\n",
        "        self.fc5   = torch.nn.Linear(400, 400)\n",
        "        self.act5  = torch.nn.Tanh()\n",
        "        self.drop5 = torch.nn.Dropout(p=0.8)\n",
        "\n",
        "        self.fc6   = torch.nn.Linear(400, 10)\n",
        "\n",
        "    def forward(self, x):\n",
        "        x = self.conv0(x)\n",
        "        x = self.act0(x)\n",
        "        x = self.pool0(x)\n",
        "        \n",
        "\n",
        "        x = self.conv1(x)\n",
        "        \n",
        "        x = self.act1(x)\n",
        "        x = self.pool1(x)\n",
        "        x = self.conv2(x)\n",
        "        x = self.act2(x)\n",
        "        x = self.pool2(x)\n",
        "        \n",
        "        x = x.view(x.size(0), x.size(1) * x.size(2) * x.size(3))\n",
        "\n",
        "        x = self.fc3(x)\n",
        "        x = self.drop3(x)\n",
        "        x = self.act3(x)\n",
        "\n",
        "        x = self.fc4(x)\n",
        "        x = self.drop4(x)\n",
        "        x = self.act4(x)\n",
        "        \n",
        "        #x = self.fc5(x)\n",
        "        #x = self.drop5(x)\n",
        "        #x = self.act5(x)\n",
        "\n",
        "        x = self.fc6(x)\n",
        "        return x\n",
        "    def predict(self, x):\n",
        "        x = self.conv0(x)\n",
        "        x = self.act0(x)\n",
        "        x = self.pool0(x)\n",
        "\n",
        "        x = self.conv1(x)\n",
        "        x = self.act1(x)\n",
        "        x = self.pool1(x)\n",
        "\n",
        "        x = self.conv2(x)\n",
        "        x = self.act2(x)\n",
        "        x = self.pool2(x)\n",
        "        \n",
        "        x = x.view(x.size(0), x.size(1) * x.size(2) * x.size(3))\n",
        "\n",
        "        \n",
        "        x = self.fc3(x)\n",
        "        x = self.act3(x)\n",
        "        \n",
        "\n",
        "        x = self.fc4(x)\n",
        "        x = self.act4(x)\n",
        "        \n",
        "        #x = self.fc5(x)\n",
        "        #x = self.act5(x)\n",
        "\n",
        "        x = self.fc6(x)\n",
        "        return x\n",
        "lenet5 = LeNet5()\n",
        "device = torch.device('cuda:0' if torch.cuda.is_available() else 'cpu')\n",
        "lenet5 = lenet5.to(device)\n",
        "\n",
        "loss = torch.nn.CrossEntropyLoss()\n"
      ],
      "execution_count": 0,
      "outputs": []
    },
    {
      "cell_type": "code",
      "metadata": {
        "id": "yoMZC2oSrfJk",
        "colab_type": "code",
        "colab": {}
      },
      "source": [
        "test_ERR_history = []\n",
        "test_loss_history = []"
      ],
      "execution_count": 0,
      "outputs": []
    },
    {
      "cell_type": "code",
      "metadata": {
        "id": "rCy3ZP2bf1qx",
        "colab_type": "code",
        "outputId": "79b77f87-7500-4492-9ec1-6b0ee143f643",
        "colab": {
          "base_uri": "https://localhost:8080/",
          "height": 1000
        }
      },
      "source": [
        "optimizer = torch.optim.Adam(lenet5.parameters(), lr=0.0001)\n",
        "batch_size = 800\n",
        "X_valid = X_valid.to(device)\n",
        "y_valid = y_valid.to(device)\n",
        "\n",
        "for epoch in range(100000):\n",
        "    order = np.random.permutation(len(X_train))\n",
        "    for start_index in range(0, len(X_train), batch_size):\n",
        "        optimizer.zero_grad()\n",
        "\n",
        "        batch_indexes = order[start_index:start_index+batch_size]\n",
        "        X_batch = X_train[batch_indexes].to(device)\n",
        "        y_batch = y_train[batch_indexes].to(device)\n",
        "\n",
        "        for i in range(len(X_batch)):\n",
        "            for k in range(100):\n",
        "                X_batch[i, 0, random.randint(0, 27), random.randint(0, 27)] = random.randint(0, 255)\n",
        "        preds = lenet5.forward(X_batch)\n",
        "\n",
        "        loss_value = loss(preds, y_batch)\n",
        "        loss_value.backward()\n",
        "\n",
        "        optimizer.step()\n",
        "        #####\n",
        "        test_preds = lenet5.predict(X_valid)\n",
        "        test_loss_history.append(loss(test_preds, y_valid).data.cpu())\n",
        "        ERR = 1-(test_preds.argmax(dim=1) == y_valid).float().mean().data.cpu()\n",
        "        test_ERR_history.append(ERR)\n",
        "\n",
        "        print(ERR)\n"
      ],
      "execution_count": 0,
      "outputs": [
        {
          "output_type": "stream",
          "text": [
            "tensor(0.0429)\n",
            "tensor(0.0429)\n",
            "tensor(0.0440)\n",
            "tensor(0.0443)\n",
            "tensor(0.0450)\n",
            "tensor(0.0452)\n",
            "tensor(0.0455)\n",
            "tensor(0.0457)\n",
            "tensor(0.0460)\n",
            "tensor(0.0455)\n",
            "tensor(0.0452)\n",
            "tensor(0.0450)\n",
            "tensor(0.0445)\n",
            "tensor(0.0443)\n",
            "tensor(0.0448)\n",
            "tensor(0.0448)\n",
            "tensor(0.0448)\n",
            "tensor(0.0452)\n",
            "tensor(0.0457)\n",
            "tensor(0.0455)\n",
            "tensor(0.0452)\n",
            "tensor(0.0450)\n",
            "tensor(0.0455)\n",
            "tensor(0.0460)\n",
            "tensor(0.0460)\n",
            "tensor(0.0462)\n",
            "tensor(0.0462)\n",
            "tensor(0.0460)\n",
            "tensor(0.0460)\n",
            "tensor(0.0455)\n",
            "tensor(0.0450)\n",
            "tensor(0.0445)\n",
            "tensor(0.0438)\n",
            "tensor(0.0438)\n",
            "tensor(0.0438)\n",
            "tensor(0.0440)\n",
            "tensor(0.0438)\n",
            "tensor(0.0438)\n",
            "tensor(0.0438)\n",
            "tensor(0.0429)\n",
            "tensor(0.0424)\n",
            "tensor(0.0424)\n",
            "tensor(0.0414)\n",
            "tensor(0.0417)\n",
            "tensor(0.0424)\n",
            "tensor(0.0426)\n",
            "tensor(0.0426)\n",
            "tensor(0.0431)\n"
          ],
          "name": "stdout"
        },
        {
          "output_type": "error",
          "ename": "KeyboardInterrupt",
          "evalue": "ignored",
          "traceback": [
            "\u001b[0;31m---------------------------------------------------------------------------\u001b[0m",
            "\u001b[0;31mKeyboardInterrupt\u001b[0m                         Traceback (most recent call last)",
            "\u001b[0;32m<ipython-input-27-af6c631f42ac>\u001b[0m in \u001b[0;36m<module>\u001b[0;34m()\u001b[0m\n\u001b[1;32m     15\u001b[0m         \u001b[0;32mfor\u001b[0m \u001b[0mi\u001b[0m \u001b[0;32min\u001b[0m \u001b[0mrange\u001b[0m\u001b[0;34m(\u001b[0m\u001b[0mlen\u001b[0m\u001b[0;34m(\u001b[0m\u001b[0mX_batch\u001b[0m\u001b[0;34m)\u001b[0m\u001b[0;34m)\u001b[0m\u001b[0;34m:\u001b[0m\u001b[0;34m\u001b[0m\u001b[0;34m\u001b[0m\u001b[0m\n\u001b[1;32m     16\u001b[0m             \u001b[0;32mfor\u001b[0m \u001b[0mk\u001b[0m \u001b[0;32min\u001b[0m \u001b[0mrange\u001b[0m\u001b[0;34m(\u001b[0m\u001b[0;36m100\u001b[0m\u001b[0;34m)\u001b[0m\u001b[0;34m:\u001b[0m\u001b[0;34m\u001b[0m\u001b[0;34m\u001b[0m\u001b[0m\n\u001b[0;32m---> 17\u001b[0;31m                 \u001b[0mX_batch\u001b[0m\u001b[0;34m[\u001b[0m\u001b[0mi\u001b[0m\u001b[0;34m,\u001b[0m \u001b[0;36m0\u001b[0m\u001b[0;34m,\u001b[0m \u001b[0mrandom\u001b[0m\u001b[0;34m.\u001b[0m\u001b[0mrandint\u001b[0m\u001b[0;34m(\u001b[0m\u001b[0;36m0\u001b[0m\u001b[0;34m,\u001b[0m \u001b[0;36m27\u001b[0m\u001b[0;34m)\u001b[0m\u001b[0;34m,\u001b[0m \u001b[0mrandom\u001b[0m\u001b[0;34m.\u001b[0m\u001b[0mrandint\u001b[0m\u001b[0;34m(\u001b[0m\u001b[0;36m0\u001b[0m\u001b[0;34m,\u001b[0m \u001b[0;36m27\u001b[0m\u001b[0;34m)\u001b[0m\u001b[0;34m]\u001b[0m \u001b[0;34m=\u001b[0m \u001b[0mrandom\u001b[0m\u001b[0;34m.\u001b[0m\u001b[0mrandint\u001b[0m\u001b[0;34m(\u001b[0m\u001b[0;36m0\u001b[0m\u001b[0;34m,\u001b[0m \u001b[0;36m255\u001b[0m\u001b[0;34m)\u001b[0m\u001b[0;34m\u001b[0m\u001b[0;34m\u001b[0m\u001b[0m\n\u001b[0m\u001b[1;32m     18\u001b[0m         \u001b[0mpreds\u001b[0m \u001b[0;34m=\u001b[0m \u001b[0mlenet5\u001b[0m\u001b[0;34m.\u001b[0m\u001b[0mforward\u001b[0m\u001b[0;34m(\u001b[0m\u001b[0mX_batch\u001b[0m\u001b[0;34m)\u001b[0m\u001b[0;34m\u001b[0m\u001b[0;34m\u001b[0m\u001b[0m\n\u001b[1;32m     19\u001b[0m \u001b[0;34m\u001b[0m\u001b[0m\n",
            "\u001b[0;31mKeyboardInterrupt\u001b[0m: "
          ]
        }
      ]
    },
    {
      "cell_type": "code",
      "metadata": {
        "id": "Rj_BAyCY_Nnb",
        "colab_type": "code",
        "colab": {}
      },
      "source": [
        "X_test = torch.Tensor(len(test), 1, 28, 28)\n",
        "for i in range(len(test)):\n",
        "    st = test.iloc[i]\n",
        "    N = np.array(st)\n",
        "    N = N.reshape((28, 28))\n",
        "    T = torch.from_numpy(N)\n",
        "    X_test[i][0] = T"
      ],
      "execution_count": 0,
      "outputs": []
    },
    {
      "cell_type": "code",
      "metadata": {
        "id": "u0YFvOq8_xWI",
        "colab_type": "code",
        "outputId": "96ab5647-d673-49c9-d85a-2981ff8f20b9",
        "colab": {
          "base_uri": "https://localhost:8080/",
          "height": 33
        }
      },
      "source": [
        "y_test = lenet5.predict(X_test).argmax(dim=1)\n",
        "y_test"
      ],
      "execution_count": 0,
      "outputs": [
        {
          "output_type": "execute_result",
          "data": {
            "text/plain": [
              "tensor([2, 0, 9,  ..., 3, 9, 2])"
            ]
          },
          "metadata": {
            "tags": []
          },
          "execution_count": 29
        }
      ]
    },
    {
      "cell_type": "code",
      "metadata": {
        "id": "MehP0NaXIpKj",
        "colab_type": "code",
        "outputId": "865fc443-f0f2-4cc1-bf81-a5d6bc5886ca",
        "colab": {
          "base_uri": "https://localhost:8080/",
          "height": 391
        }
      },
      "source": [
        "y_test = pd.DataFrame(y_test).reset_index()\n",
        "y_test.rename(columns={'index': 'ImageId', 0: 'Label'}, inplace=True)\n",
        "y_test['ImageId'] = y_test['ImageId'] + 1\n",
        "y_test"
      ],
      "execution_count": 0,
      "outputs": [
        {
          "output_type": "execute_result",
          "data": {
            "text/html": [
              "<div>\n",
              "<style scoped>\n",
              "    .dataframe tbody tr th:only-of-type {\n",
              "        vertical-align: middle;\n",
              "    }\n",
              "\n",
              "    .dataframe tbody tr th {\n",
              "        vertical-align: top;\n",
              "    }\n",
              "\n",
              "    .dataframe thead th {\n",
              "        text-align: right;\n",
              "    }\n",
              "</style>\n",
              "<table border=\"1\" class=\"dataframe\">\n",
              "  <thead>\n",
              "    <tr style=\"text-align: right;\">\n",
              "      <th></th>\n",
              "      <th>ImageId</th>\n",
              "      <th>Label</th>\n",
              "    </tr>\n",
              "  </thead>\n",
              "  <tbody>\n",
              "    <tr>\n",
              "      <th>0</th>\n",
              "      <td>1</td>\n",
              "      <td>2</td>\n",
              "    </tr>\n",
              "    <tr>\n",
              "      <th>1</th>\n",
              "      <td>2</td>\n",
              "      <td>0</td>\n",
              "    </tr>\n",
              "    <tr>\n",
              "      <th>2</th>\n",
              "      <td>3</td>\n",
              "      <td>9</td>\n",
              "    </tr>\n",
              "    <tr>\n",
              "      <th>3</th>\n",
              "      <td>4</td>\n",
              "      <td>9</td>\n",
              "    </tr>\n",
              "    <tr>\n",
              "      <th>4</th>\n",
              "      <td>5</td>\n",
              "      <td>3</td>\n",
              "    </tr>\n",
              "    <tr>\n",
              "      <th>...</th>\n",
              "      <td>...</td>\n",
              "      <td>...</td>\n",
              "    </tr>\n",
              "    <tr>\n",
              "      <th>27995</th>\n",
              "      <td>27996</td>\n",
              "      <td>9</td>\n",
              "    </tr>\n",
              "    <tr>\n",
              "      <th>27996</th>\n",
              "      <td>27997</td>\n",
              "      <td>7</td>\n",
              "    </tr>\n",
              "    <tr>\n",
              "      <th>27997</th>\n",
              "      <td>27998</td>\n",
              "      <td>3</td>\n",
              "    </tr>\n",
              "    <tr>\n",
              "      <th>27998</th>\n",
              "      <td>27999</td>\n",
              "      <td>9</td>\n",
              "    </tr>\n",
              "    <tr>\n",
              "      <th>27999</th>\n",
              "      <td>28000</td>\n",
              "      <td>2</td>\n",
              "    </tr>\n",
              "  </tbody>\n",
              "</table>\n",
              "<p>28000 rows × 2 columns</p>\n",
              "</div>"
            ],
            "text/plain": [
              "       ImageId  Label\n",
              "0            1      2\n",
              "1            2      0\n",
              "2            3      9\n",
              "3            4      9\n",
              "4            5      3\n",
              "...        ...    ...\n",
              "27995    27996      9\n",
              "27996    27997      7\n",
              "27997    27998      3\n",
              "27998    27999      9\n",
              "27999    28000      2\n",
              "\n",
              "[28000 rows x 2 columns]"
            ]
          },
          "metadata": {
            "tags": []
          },
          "execution_count": 30
        }
      ]
    },
    {
      "cell_type": "code",
      "metadata": {
        "id": "tD7Quhu7_yZt",
        "colab_type": "code",
        "outputId": "34bcbf42-8411-435e-e8d3-eff4a72c5f27",
        "colab": {
          "base_uri": "https://localhost:8080/",
          "height": 66
        }
      },
      "source": [
        "y_test.to_csv(\"submission.csv\", index=False)\n",
        "!kaggle competitions submit -c digit-recognizer -m \"maxpool\" -f submission.csv"
      ],
      "execution_count": 0,
      "outputs": [
        {
          "output_type": "stream",
          "text": [
            "Warning: Looks like you're using an outdated API Version, please consider updating (server 1.5.6 / client 1.5.4)\n",
            "\r  0% 0.00/208k [00:00<?, ?B/s]\r100% 208k/208k [00:00<00:00, 803kB/s]\n",
            "Successfully submitted to Digit Recognizer"
          ],
          "name": "stdout"
        }
      ]
    }
  ]
}