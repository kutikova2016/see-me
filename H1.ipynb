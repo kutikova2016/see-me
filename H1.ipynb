{
  "nbformat": 4,
  "nbformat_minor": 0,
  "metadata": {
    "colab": {
      "name": "H1.ipynb",
      "provenance": [],
      "include_colab_link": true
    },
    "kernelspec": {
      "name": "python3",
      "display_name": "Python 3"
    }
  },
  "cells": [
    {
      "cell_type": "markdown",
      "metadata": {
        "id": "view-in-github",
        "colab_type": "text"
      },
      "source": [
        "<a href=\"https://colab.research.google.com/github/kutikova2016/see-me/blob/master/H1.ipynb\" target=\"_parent\"><img src=\"https://colab.research.google.com/assets/colab-badge.svg\" alt=\"Open In Colab\"/></a>"
      ]
    },
    {
      "cell_type": "code",
      "metadata": {
        "id": "ps0wAwJMv_Rk",
        "colab_type": "code",
        "colab": {}
      },
      "source": [
        "import pandas as pd\n",
        "import numpy as np\n",
        "%matplotlib inline\n",
        "import matplotlib.pyplot as plt\n",
        "import seaborn as sns"
      ],
      "execution_count": 0,
      "outputs": []
    },
    {
      "cell_type": "code",
      "metadata": {
        "id": "qbJi9m2undDF",
        "colab_type": "code",
        "colab": {}
      },
      "source": [
        "from sklearn import tree\n",
        "from sklearn.model_selection import train_test_split"
      ],
      "execution_count": 0,
      "outputs": []
    },
    {
      "cell_type": "code",
      "metadata": {
        "id": "8aK4kZknnjKU",
        "colab_type": "code",
        "colab": {}
      },
      "source": [
        "from IPython.display import SVG, display\n",
        "from graphviz import Source"
      ],
      "execution_count": 0,
      "outputs": []
    },
    {
      "cell_type": "code",
      "metadata": {
        "id": "9ayzM6kgn3-E",
        "colab_type": "code",
        "outputId": "8717a7c7-8ea5-4d3a-c98d-62dca15be12a",
        "colab": {
          "base_uri": "https://localhost:8080/",
          "height": 17
        }
      },
      "source": [
        "from IPython.display import HTML\n",
        "style=\"<style>svg{width:70% !important;height:70% !important;}</style>\"\n",
        "HTML(style)"
      ],
      "execution_count": 0,
      "outputs": [
        {
          "output_type": "execute_result",
          "data": {
            "text/html": [
              "<style>svg{width:70% !important;height:70% !important;}</style>"
            ],
            "text/plain": [
              "<IPython.core.display.HTML object>"
            ]
          },
          "metadata": {
            "tags": []
          },
          "execution_count": 6
        }
      ]
    },
    {
      "cell_type": "code",
      "metadata": {
        "id": "rPwlIIUOogai",
        "colab_type": "code",
        "colab": {}
      },
      "source": [
        "df = pd.read_csv('train.csv')\\\n",
        "    #.rename(columns={'math score':'math_score', 'reading score':'reading_score', 'writing score':'writing_score'})\n",
        "    #.groupby(['group']).std()\n",
        "     #   .aggregate({'species': 'count'})\n",
        "df.head(2)"
      ],
      "execution_count": 0,
      "outputs": []
    },
    {
      "cell_type": "code",
      "metadata": {
        "id": "qUlIasj3yTPM",
        "colab_type": "code",
        "colab": {}
      },
      "source": [
        "X = df.drop(['PassengerId', 'Survived', 'Name', 'Ticket', 'Cabin'], axis = 1)\n",
        "X.fillna({'Age': X.Age.median()}, inplace=True)\n",
        "X = pd.get_dummies(X)\n",
        "y = df.Survived\n",
        "X_train, X_test, y_train, y_test = train_test_split(X, y, test_size=0.33, random_state=42)"
      ],
      "execution_count": 0,
      "outputs": []
    },
    {
      "cell_type": "code",
      "metadata": {
        "id": "TBA6zLTSpiHS",
        "colab_type": "code",
        "colab": {}
      },
      "source": [
        "clf = tree.DecisionTreeClassifier(criterion='entropy', max_depth=3)"
      ],
      "execution_count": 0,
      "outputs": []
    },
    {
      "cell_type": "code",
      "metadata": {
        "id": "1sOAZnlT6TCD",
        "colab_type": "code",
        "colab": {}
      },
      "source": [
        "clf.fit(X_train, y_train)"
      ],
      "execution_count": 0,
      "outputs": []
    },
    {
      "cell_type": "code",
      "metadata": {
        "id": "to77Gw6ky4aJ",
        "colab_type": "code",
        "colab": {}
      },
      "source": [
        "clf.score(X_train, y_train)"
      ],
      "execution_count": 0,
      "outputs": []
    },
    {
      "cell_type": "code",
      "metadata": {
        "id": "Q7gqRpwPzFSX",
        "colab_type": "code",
        "colab": {}
      },
      "source": [
        "clf.score(X_test, y_test)"
      ],
      "execution_count": 0,
      "outputs": []
    },
    {
      "cell_type": "code",
      "metadata": {
        "id": "Sil3yziRv5KI",
        "colab_type": "code",
        "outputId": "65f397e2-a14e-4c1b-8690-1c764a94f73c",
        "colab": {
          "base_uri": "https://localhost:8080/",
          "height": 598
        }
      },
      "source": [
        "graph = Source(tree.export_graphviz(clf, out_file=None,\n",
        "                                    feature_names=list(X),\n",
        "                                    class_names = ['Died', 'Survived'],\n",
        "                                    filled = True))\n",
        "display(SVG(graph.pipe(format='svg')))"
      ],
      "execution_count": 0,
      "outputs": [
        {
          "output_type": "display_data",
          "data": {
            "text/plain": [
              "<IPython.core.display.SVG object>"
            ],
            "image/svg+xml": "<svg height=\"433pt\" viewBox=\"0.00 0.00 1004.00 433.00\" width=\"1004pt\" xmlns=\"http://www.w3.org/2000/svg\" xmlns:xlink=\"http://www.w3.org/1999/xlink\">\n<g class=\"graph\" id=\"graph0\" transform=\"scale(1 1) rotate(0) translate(4 429)\">\n<title>Tree</title>\n<polygon fill=\"#ffffff\" points=\"-4,4 -4,-429 1000,-429 1000,4 -4,4\" stroke=\"transparent\"/>\n<!-- 0 -->\n<g class=\"node\" id=\"node1\">\n<title>0</title>\n<polygon fill=\"#f4ccaf\" points=\"564.5,-425 438.5,-425 438.5,-342 564.5,-342 564.5,-425\" stroke=\"#000000\"/>\n<text fill=\"#000000\" font-family=\"Times,serif\" font-size=\"14.00\" text-anchor=\"middle\" x=\"501.5\" y=\"-409.8\">Sex_female &lt;= 0.5</text>\n<text fill=\"#000000\" font-family=\"Times,serif\" font-size=\"14.00\" text-anchor=\"middle\" x=\"501.5\" y=\"-394.8\">entropy = 0.953</text>\n<text fill=\"#000000\" font-family=\"Times,serif\" font-size=\"14.00\" text-anchor=\"middle\" x=\"501.5\" y=\"-379.8\">samples = 596</text>\n<text fill=\"#000000\" font-family=\"Times,serif\" font-size=\"14.00\" text-anchor=\"middle\" x=\"501.5\" y=\"-364.8\">value = [374, 222]</text>\n<text fill=\"#000000\" font-family=\"Times,serif\" font-size=\"14.00\" text-anchor=\"middle\" x=\"501.5\" y=\"-349.8\">class = Died</text>\n</g>\n<!-- 1 -->\n<g class=\"node\" id=\"node2\">\n<title>1</title>\n<polygon fill=\"#eb9e67\" points=\"434,-306 317,-306 317,-223 434,-223 434,-306\" stroke=\"#000000\"/>\n<text fill=\"#000000\" font-family=\"Times,serif\" font-size=\"14.00\" text-anchor=\"middle\" x=\"375.5\" y=\"-290.8\">Age &lt;= 3.5</text>\n<text fill=\"#000000\" font-family=\"Times,serif\" font-size=\"14.00\" text-anchor=\"middle\" x=\"375.5\" y=\"-275.8\">entropy = 0.696</text>\n<text fill=\"#000000\" font-family=\"Times,serif\" font-size=\"14.00\" text-anchor=\"middle\" x=\"375.5\" y=\"-260.8\">samples = 390</text>\n<text fill=\"#000000\" font-family=\"Times,serif\" font-size=\"14.00\" text-anchor=\"middle\" x=\"375.5\" y=\"-245.8\">value = [317, 73]</text>\n<text fill=\"#000000\" font-family=\"Times,serif\" font-size=\"14.00\" text-anchor=\"middle\" x=\"375.5\" y=\"-230.8\">class = Died</text>\n</g>\n<!-- 0&#45;&gt;1 -->\n<g class=\"edge\" id=\"edge1\">\n<title>0-&gt;1</title>\n<path d=\"M457.4313,-341.8796C447.7045,-332.6931 437.3139,-322.8798 427.3121,-313.4336\" fill=\"none\" stroke=\"#000000\"/>\n<polygon fill=\"#000000\" points=\"429.4301,-310.6198 419.7568,-306.2981 424.6237,-315.7089 429.4301,-310.6198\" stroke=\"#000000\"/>\n<text fill=\"#000000\" font-family=\"Times,serif\" font-size=\"14.00\" text-anchor=\"middle\" x=\"420.4708\" y=\"-327.5879\">True</text>\n</g>\n<!-- 8 -->\n<g class=\"node\" id=\"node9\">\n<title>8</title>\n<polygon fill=\"#85c2ef\" points=\"688,-306 571,-306 571,-223 688,-223 688,-306\" stroke=\"#000000\"/>\n<text fill=\"#000000\" font-family=\"Times,serif\" font-size=\"14.00\" text-anchor=\"middle\" x=\"629.5\" y=\"-290.8\">Pclass &lt;= 2.5</text>\n<text fill=\"#000000\" font-family=\"Times,serif\" font-size=\"14.00\" text-anchor=\"middle\" x=\"629.5\" y=\"-275.8\">entropy = 0.851</text>\n<text fill=\"#000000\" font-family=\"Times,serif\" font-size=\"14.00\" text-anchor=\"middle\" x=\"629.5\" y=\"-260.8\">samples = 206</text>\n<text fill=\"#000000\" font-family=\"Times,serif\" font-size=\"14.00\" text-anchor=\"middle\" x=\"629.5\" y=\"-245.8\">value = [57, 149]</text>\n<text fill=\"#000000\" font-family=\"Times,serif\" font-size=\"14.00\" text-anchor=\"middle\" x=\"629.5\" y=\"-230.8\">class = Survived</text>\n</g>\n<!-- 0&#45;&gt;8 -->\n<g class=\"edge\" id=\"edge8\">\n<title>0-&gt;8</title>\n<path d=\"M546.2682,-341.8796C556.2463,-332.6031 566.9119,-322.6874 577.1642,-313.1559\" fill=\"none\" stroke=\"#000000\"/>\n<polygon fill=\"#000000\" points=\"579.6,-315.6704 584.5407,-306.2981 574.8337,-310.5436 579.6,-315.6704\" stroke=\"#000000\"/>\n<text fill=\"#000000\" font-family=\"Times,serif\" font-size=\"14.00\" text-anchor=\"middle\" x=\"583.6304\" y=\"-327.5815\">False</text>\n</g>\n<!-- 2 -->\n<g class=\"node\" id=\"node3\">\n<title>2</title>\n<polygon fill=\"#74baed\" points=\"240,-187 129,-187 129,-104 240,-104 240,-187\" stroke=\"#000000\"/>\n<text fill=\"#000000\" font-family=\"Times,serif\" font-size=\"14.00\" text-anchor=\"middle\" x=\"184.5\" y=\"-171.8\">SibSp &lt;= 3.0</text>\n<text fill=\"#000000\" font-family=\"Times,serif\" font-size=\"14.00\" text-anchor=\"middle\" x=\"184.5\" y=\"-156.8\">entropy = 0.779</text>\n<text fill=\"#000000\" font-family=\"Times,serif\" font-size=\"14.00\" text-anchor=\"middle\" x=\"184.5\" y=\"-141.8\">samples = 13</text>\n<text fill=\"#000000\" font-family=\"Times,serif\" font-size=\"14.00\" text-anchor=\"middle\" x=\"184.5\" y=\"-126.8\">value = [3, 10]</text>\n<text fill=\"#000000\" font-family=\"Times,serif\" font-size=\"14.00\" text-anchor=\"middle\" x=\"184.5\" y=\"-111.8\">class = Survived</text>\n</g>\n<!-- 1&#45;&gt;2 -->\n<g class=\"edge\" id=\"edge2\">\n<title>1-&gt;2</title>\n<path d=\"M316.8957,-227.9874C295.3075,-214.5371 270.7468,-199.2349 248.6913,-185.4935\" fill=\"none\" stroke=\"#000000\"/>\n<polygon fill=\"#000000\" points=\"250.3916,-182.4292 240.0533,-180.1118 246.69,-188.3704 250.3916,-182.4292\" stroke=\"#000000\"/>\n</g>\n<!-- 5 -->\n<g class=\"node\" id=\"node6\">\n<title>5</title>\n<polygon fill=\"#ea9a61\" points=\"434,-187 317,-187 317,-104 434,-104 434,-187\" stroke=\"#000000\"/>\n<text fill=\"#000000\" font-family=\"Times,serif\" font-size=\"14.00\" text-anchor=\"middle\" x=\"375.5\" y=\"-171.8\">Fare &lt;= 52.277</text>\n<text fill=\"#000000\" font-family=\"Times,serif\" font-size=\"14.00\" text-anchor=\"middle\" x=\"375.5\" y=\"-156.8\">entropy = 0.651</text>\n<text fill=\"#000000\" font-family=\"Times,serif\" font-size=\"14.00\" text-anchor=\"middle\" x=\"375.5\" y=\"-141.8\">samples = 377</text>\n<text fill=\"#000000\" font-family=\"Times,serif\" font-size=\"14.00\" text-anchor=\"middle\" x=\"375.5\" y=\"-126.8\">value = [314, 63]</text>\n<text fill=\"#000000\" font-family=\"Times,serif\" font-size=\"14.00\" text-anchor=\"middle\" x=\"375.5\" y=\"-111.8\">class = Died</text>\n</g>\n<!-- 1&#45;&gt;5 -->\n<g class=\"edge\" id=\"edge5\">\n<title>1-&gt;5</title>\n<path d=\"M375.5,-222.8796C375.5,-214.6838 375.5,-205.9891 375.5,-197.5013\" fill=\"none\" stroke=\"#000000\"/>\n<polygon fill=\"#000000\" points=\"379.0001,-197.298 375.5,-187.2981 372.0001,-197.2981 379.0001,-197.298\" stroke=\"#000000\"/>\n</g>\n<!-- 3 -->\n<g class=\"node\" id=\"node4\">\n<title>3</title>\n<polygon fill=\"#399de5\" points=\"111,-68 0,-68 0,0 111,0 111,-68\" stroke=\"#000000\"/>\n<text fill=\"#000000\" font-family=\"Times,serif\" font-size=\"14.00\" text-anchor=\"middle\" x=\"55.5\" y=\"-52.8\">entropy = 0.0</text>\n<text fill=\"#000000\" font-family=\"Times,serif\" font-size=\"14.00\" text-anchor=\"middle\" x=\"55.5\" y=\"-37.8\">samples = 9</text>\n<text fill=\"#000000\" font-family=\"Times,serif\" font-size=\"14.00\" text-anchor=\"middle\" x=\"55.5\" y=\"-22.8\">value = [0, 9]</text>\n<text fill=\"#000000\" font-family=\"Times,serif\" font-size=\"14.00\" text-anchor=\"middle\" x=\"55.5\" y=\"-7.8\">class = Survived</text>\n</g>\n<!-- 2&#45;&gt;3 -->\n<g class=\"edge\" id=\"edge3\">\n<title>2-&gt;3</title>\n<path d=\"M136.4652,-103.9815C125.513,-94.5151 113.8821,-84.462 102.9544,-75.0168\" fill=\"none\" stroke=\"#000000\"/>\n<polygon fill=\"#000000\" points=\"104.9957,-72.155 95.1414,-68.2637 100.4182,-77.4509 104.9957,-72.155\" stroke=\"#000000\"/>\n</g>\n<!-- 4 -->\n<g class=\"node\" id=\"node5\">\n<title>4</title>\n<polygon fill=\"#eeab7b\" points=\"239.5,-68 129.5,-68 129.5,0 239.5,0 239.5,-68\" stroke=\"#000000\"/>\n<text fill=\"#000000\" font-family=\"Times,serif\" font-size=\"14.00\" text-anchor=\"middle\" x=\"184.5\" y=\"-52.8\">entropy = 0.811</text>\n<text fill=\"#000000\" font-family=\"Times,serif\" font-size=\"14.00\" text-anchor=\"middle\" x=\"184.5\" y=\"-37.8\">samples = 4</text>\n<text fill=\"#000000\" font-family=\"Times,serif\" font-size=\"14.00\" text-anchor=\"middle\" x=\"184.5\" y=\"-22.8\">value = [3, 1]</text>\n<text fill=\"#000000\" font-family=\"Times,serif\" font-size=\"14.00\" text-anchor=\"middle\" x=\"184.5\" y=\"-7.8\">class = Died</text>\n</g>\n<!-- 2&#45;&gt;4 -->\n<g class=\"edge\" id=\"edge4\">\n<title>2-&gt;4</title>\n<path d=\"M184.5,-103.9815C184.5,-95.618 184.5,-86.7965 184.5,-78.3409\" fill=\"none\" stroke=\"#000000\"/>\n<polygon fill=\"#000000\" points=\"188.0001,-78.2636 184.5,-68.2637 181.0001,-78.2637 188.0001,-78.2636\" stroke=\"#000000\"/>\n</g>\n<!-- 6 -->\n<g class=\"node\" id=\"node7\">\n<title>6</title>\n<polygon fill=\"#e99559\" points=\"375,-68 258,-68 258,0 375,0 375,-68\" stroke=\"#000000\"/>\n<text fill=\"#000000\" font-family=\"Times,serif\" font-size=\"14.00\" text-anchor=\"middle\" x=\"316.5\" y=\"-52.8\">entropy = 0.58</text>\n<text fill=\"#000000\" font-family=\"Times,serif\" font-size=\"14.00\" text-anchor=\"middle\" x=\"316.5\" y=\"-37.8\">samples = 332</text>\n<text fill=\"#000000\" font-family=\"Times,serif\" font-size=\"14.00\" text-anchor=\"middle\" x=\"316.5\" y=\"-22.8\">value = [286, 46]</text>\n<text fill=\"#000000\" font-family=\"Times,serif\" font-size=\"14.00\" text-anchor=\"middle\" x=\"316.5\" y=\"-7.8\">class = Died</text>\n</g>\n<!-- 5&#45;&gt;6 -->\n<g class=\"edge\" id=\"edge6\">\n<title>5-&gt;6</title>\n<path d=\"M353.5306,-103.9815C348.9105,-95.2504 344.0264,-86.0202 339.374,-77.2281\" fill=\"none\" stroke=\"#000000\"/>\n<polygon fill=\"#000000\" points=\"342.4013,-75.4655 334.6306,-68.2637 336.2141,-78.7395 342.4013,-75.4655\" stroke=\"#000000\"/>\n</g>\n<!-- 7 -->\n<g class=\"node\" id=\"node8\">\n<title>7</title>\n<polygon fill=\"#f5ceb1\" points=\"503.5,-68 393.5,-68 393.5,0 503.5,0 503.5,-68\" stroke=\"#000000\"/>\n<text fill=\"#000000\" font-family=\"Times,serif\" font-size=\"14.00\" text-anchor=\"middle\" x=\"448.5\" y=\"-52.8\">entropy = 0.956</text>\n<text fill=\"#000000\" font-family=\"Times,serif\" font-size=\"14.00\" text-anchor=\"middle\" x=\"448.5\" y=\"-37.8\">samples = 45</text>\n<text fill=\"#000000\" font-family=\"Times,serif\" font-size=\"14.00\" text-anchor=\"middle\" x=\"448.5\" y=\"-22.8\">value = [28, 17]</text>\n<text fill=\"#000000\" font-family=\"Times,serif\" font-size=\"14.00\" text-anchor=\"middle\" x=\"448.5\" y=\"-7.8\">class = Died</text>\n</g>\n<!-- 5&#45;&gt;7 -->\n<g class=\"edge\" id=\"edge7\">\n<title>5-&gt;7</title>\n<path d=\"M402.6825,-103.9815C408.5192,-95.0666 414.6966,-85.6313 420.5614,-76.6734\" fill=\"none\" stroke=\"#000000\"/>\n<polygon fill=\"#000000\" points=\"423.5179,-78.5472 426.0673,-68.2637 417.6614,-74.7129 423.5179,-78.5472\" stroke=\"#000000\"/>\n</g>\n<!-- 9 -->\n<g class=\"node\" id=\"node10\">\n<title>9</title>\n<polygon fill=\"#41a1e6\" points=\"685,-187 574,-187 574,-104 685,-104 685,-187\" stroke=\"#000000\"/>\n<text fill=\"#000000\" font-family=\"Times,serif\" font-size=\"14.00\" text-anchor=\"middle\" x=\"629.5\" y=\"-171.8\">Age &lt;= 2.5</text>\n<text fill=\"#000000\" font-family=\"Times,serif\" font-size=\"14.00\" text-anchor=\"middle\" x=\"629.5\" y=\"-156.8\">entropy = 0.23</text>\n<text fill=\"#000000\" font-family=\"Times,serif\" font-size=\"14.00\" text-anchor=\"middle\" x=\"629.5\" y=\"-141.8\">samples = 107</text>\n<text fill=\"#000000\" font-family=\"Times,serif\" font-size=\"14.00\" text-anchor=\"middle\" x=\"629.5\" y=\"-126.8\">value = [4, 103]</text>\n<text fill=\"#000000\" font-family=\"Times,serif\" font-size=\"14.00\" text-anchor=\"middle\" x=\"629.5\" y=\"-111.8\">class = Survived</text>\n</g>\n<!-- 8&#45;&gt;9 -->\n<g class=\"edge\" id=\"edge9\">\n<title>8-&gt;9</title>\n<path d=\"M629.5,-222.8796C629.5,-214.6838 629.5,-205.9891 629.5,-197.5013\" fill=\"none\" stroke=\"#000000\"/>\n<polygon fill=\"#000000\" points=\"633.0001,-197.298 629.5,-187.2981 626.0001,-197.2981 633.0001,-197.298\" stroke=\"#000000\"/>\n</g>\n<!-- 12 -->\n<g class=\"node\" id=\"node13\">\n<title>12</title>\n<polygon fill=\"#fceee5\" points=\"874.5,-187 764.5,-187 764.5,-104 874.5,-104 874.5,-187\" stroke=\"#000000\"/>\n<text fill=\"#000000\" font-family=\"Times,serif\" font-size=\"14.00\" text-anchor=\"middle\" x=\"819.5\" y=\"-171.8\">Fare &lt;= 23.35</text>\n<text fill=\"#000000\" font-family=\"Times,serif\" font-size=\"14.00\" text-anchor=\"middle\" x=\"819.5\" y=\"-156.8\">entropy = 0.996</text>\n<text fill=\"#000000\" font-family=\"Times,serif\" font-size=\"14.00\" text-anchor=\"middle\" x=\"819.5\" y=\"-141.8\">samples = 99</text>\n<text fill=\"#000000\" font-family=\"Times,serif\" font-size=\"14.00\" text-anchor=\"middle\" x=\"819.5\" y=\"-126.8\">value = [53, 46]</text>\n<text fill=\"#000000\" font-family=\"Times,serif\" font-size=\"14.00\" text-anchor=\"middle\" x=\"819.5\" y=\"-111.8\">class = Died</text>\n</g>\n<!-- 8&#45;&gt;12 -->\n<g class=\"edge\" id=\"edge12\">\n<title>8-&gt;12</title>\n<path d=\"M688.0566,-227.8251C709.5222,-214.3808 733.9138,-199.104 755.8076,-185.3916\" fill=\"none\" stroke=\"#000000\"/>\n<polygon fill=\"#000000\" points=\"757.7645,-188.2958 764.3817,-180.0215 754.0489,-182.3633 757.7645,-188.2958\" stroke=\"#000000\"/>\n</g>\n<!-- 10 -->\n<g class=\"node\" id=\"node11\">\n<title>10</title>\n<polygon fill=\"#ffffff\" points=\"617,-68 522,-68 522,0 617,0 617,-68\" stroke=\"#000000\"/>\n<text fill=\"#000000\" font-family=\"Times,serif\" font-size=\"14.00\" text-anchor=\"middle\" x=\"569.5\" y=\"-52.8\">entropy = 1.0</text>\n<text fill=\"#000000\" font-family=\"Times,serif\" font-size=\"14.00\" text-anchor=\"middle\" x=\"569.5\" y=\"-37.8\">samples = 2</text>\n<text fill=\"#000000\" font-family=\"Times,serif\" font-size=\"14.00\" text-anchor=\"middle\" x=\"569.5\" y=\"-22.8\">value = [1, 1]</text>\n<text fill=\"#000000\" font-family=\"Times,serif\" font-size=\"14.00\" text-anchor=\"middle\" x=\"569.5\" y=\"-7.8\">class = Died</text>\n</g>\n<!-- 9&#45;&gt;10 -->\n<g class=\"edge\" id=\"edge10\">\n<title>9-&gt;10</title>\n<path d=\"M607.1582,-103.9815C602.4598,-95.2504 597.4929,-86.0202 592.7617,-77.2281\" fill=\"none\" stroke=\"#000000\"/>\n<polygon fill=\"#000000\" points=\"595.7586,-75.4111 587.9379,-68.2637 589.5944,-78.7282 595.7586,-75.4111\" stroke=\"#000000\"/>\n</g>\n<!-- 11 -->\n<g class=\"node\" id=\"node12\">\n<title>11</title>\n<polygon fill=\"#3fa0e6\" points=\"746,-68 635,-68 635,0 746,0 746,-68\" stroke=\"#000000\"/>\n<text fill=\"#000000\" font-family=\"Times,serif\" font-size=\"14.00\" text-anchor=\"middle\" x=\"690.5\" y=\"-52.8\">entropy = 0.187</text>\n<text fill=\"#000000\" font-family=\"Times,serif\" font-size=\"14.00\" text-anchor=\"middle\" x=\"690.5\" y=\"-37.8\">samples = 105</text>\n<text fill=\"#000000\" font-family=\"Times,serif\" font-size=\"14.00\" text-anchor=\"middle\" x=\"690.5\" y=\"-22.8\">value = [3, 102]</text>\n<text fill=\"#000000\" font-family=\"Times,serif\" font-size=\"14.00\" text-anchor=\"middle\" x=\"690.5\" y=\"-7.8\">class = Survived</text>\n</g>\n<!-- 9&#45;&gt;11 -->\n<g class=\"edge\" id=\"edge11\">\n<title>9-&gt;11</title>\n<path d=\"M652.2141,-103.9815C656.9908,-95.2504 662.0405,-86.0202 666.8506,-77.2281\" fill=\"none\" stroke=\"#000000\"/>\n<polygon fill=\"#000000\" points=\"670.0258,-78.7165 671.7549,-68.2637 663.8847,-75.3568 670.0258,-78.7165\" stroke=\"#000000\"/>\n</g>\n<!-- 13 -->\n<g class=\"node\" id=\"node14\">\n<title>13</title>\n<polygon fill=\"#d7ebfa\" points=\"875,-68 764,-68 764,0 875,0 875,-68\" stroke=\"#000000\"/>\n<text fill=\"#000000\" font-family=\"Times,serif\" font-size=\"14.00\" text-anchor=\"middle\" x=\"819.5\" y=\"-52.8\">entropy = 0.991</text>\n<text fill=\"#000000\" font-family=\"Times,serif\" font-size=\"14.00\" text-anchor=\"middle\" x=\"819.5\" y=\"-37.8\">samples = 81</text>\n<text fill=\"#000000\" font-family=\"Times,serif\" font-size=\"14.00\" text-anchor=\"middle\" x=\"819.5\" y=\"-22.8\">value = [36, 45]</text>\n<text fill=\"#000000\" font-family=\"Times,serif\" font-size=\"14.00\" text-anchor=\"middle\" x=\"819.5\" y=\"-7.8\">class = Survived</text>\n</g>\n<!-- 12&#45;&gt;13 -->\n<g class=\"edge\" id=\"edge13\">\n<title>12-&gt;13</title>\n<path d=\"M819.5,-103.9815C819.5,-95.618 819.5,-86.7965 819.5,-78.3409\" fill=\"none\" stroke=\"#000000\"/>\n<polygon fill=\"#000000\" points=\"823.0001,-78.2636 819.5,-68.2637 816.0001,-78.2637 823.0001,-78.2636\" stroke=\"#000000\"/>\n</g>\n<!-- 14 -->\n<g class=\"node\" id=\"node15\">\n<title>14</title>\n<polygon fill=\"#e78845\" points=\"996,-68 893,-68 893,0 996,0 996,-68\" stroke=\"#000000\"/>\n<text fill=\"#000000\" font-family=\"Times,serif\" font-size=\"14.00\" text-anchor=\"middle\" x=\"944.5\" y=\"-52.8\">entropy = 0.31</text>\n<text fill=\"#000000\" font-family=\"Times,serif\" font-size=\"14.00\" text-anchor=\"middle\" x=\"944.5\" y=\"-37.8\">samples = 18</text>\n<text fill=\"#000000\" font-family=\"Times,serif\" font-size=\"14.00\" text-anchor=\"middle\" x=\"944.5\" y=\"-22.8\">value = [17, 1]</text>\n<text fill=\"#000000\" font-family=\"Times,serif\" font-size=\"14.00\" text-anchor=\"middle\" x=\"944.5\" y=\"-7.8\">class = Died</text>\n</g>\n<!-- 12&#45;&gt;14 -->\n<g class=\"edge\" id=\"edge14\">\n<title>12-&gt;14</title>\n<path d=\"M866.0454,-103.9815C876.6579,-94.5151 887.9282,-84.462 898.5171,-75.0168\" fill=\"none\" stroke=\"#000000\"/>\n<polygon fill=\"#000000\" points=\"900.9551,-77.5322 906.0878,-68.2637 896.2954,-72.3084 900.9551,-77.5322\" stroke=\"#000000\"/>\n</g>\n</g>\n</svg>"
          },
          "metadata": {
            "tags": []
          }
        }
      ]
    },
    {
      "cell_type": "code",
      "metadata": {
        "id": "MZVpC6C60X09",
        "colab_type": "code",
        "colab": {}
      },
      "source": [
        "scores_data = pd.DataFrame()"
      ],
      "execution_count": 0,
      "outputs": []
    },
    {
      "cell_type": "code",
      "metadata": {
        "id": "kpyNObO2zwss",
        "colab_type": "code",
        "colab": {}
      },
      "source": [
        "for max_depth in range(1, 12):\n",
        "    clf = tree.DecisionTreeClassifier(criterion='entropy', max_depth=max_depth)\n",
        "    clf.fit(X_train, y_train)\n",
        "    train_score = clf.score(X_train, y_train)\n",
        "    test_score = clf.score(X_test, y_test)\n",
        "\n",
        "    temp_score_data = pd.DataFrame({'max_depth': [max_depth],\n",
        "                                    'train_score': [train_score],\n",
        "                                    'test_score': [test_score]})\n",
        "    scores_data = scores_data.append(temp_score_data)"
      ],
      "execution_count": 0,
      "outputs": []
    },
    {
      "cell_type": "code",
      "metadata": {
        "id": "IX2pAOTtkw6s",
        "colab_type": "code",
        "colab": {}
      },
      "source": [
        "graph = Source(tree.export_graphviz(clf, out_file=None,\n",
        "                                    feature_names=list(X),\n",
        "                                    class_names = ['Died', 'Survived'],\n",
        "                                    filled = True))\n",
        "display(SVG(graph.pipe(format='svg')))"
      ],
      "execution_count": 0,
      "outputs": []
    },
    {
      "cell_type": "code",
      "metadata": {
        "id": "ZDXYvFR71Fhq",
        "colab_type": "code",
        "colab": {}
      },
      "source": [
        "scores_data_long = pd.melt(scores_data, id_vars=['max_depth'], value_vars=['train_score', 'test_score'], \n",
        "                           var_name='set_type', value_name='score')\n",
        "scores_data_long.head()"
      ],
      "execution_count": 0,
      "outputs": []
    },
    {
      "cell_type": "code",
      "metadata": {
        "id": "H84NwaKv_wbr",
        "colab_type": "code",
        "outputId": "b73d5640-3eea-4d11-b755-8f62a37e4028",
        "colab": {
          "base_uri": "https://localhost:8080/",
          "height": 297
        }
      },
      "source": [
        "sns.lineplot(x=\"max_depth\", y=\"score\", hue=\"set_type\", data=scores_data_long)"
      ],
      "execution_count": 0,
      "outputs": [
        {
          "output_type": "execute_result",
          "data": {
            "text/plain": [
              "<matplotlib.axes._subplots.AxesSubplot at 0x7fc869eb5518>"
            ]
          },
          "metadata": {
            "tags": []
          },
          "execution_count": 24
        },
        {
          "output_type": "display_data",
          "data": {
            "image/png": "[encoded data removed]",
            "text/plain": [
              "<Figure size 432x288 with 1 Axes>"
            ]
          },
          "metadata": {
            "tags": []
          }
        }
      ]
    },
    {
      "cell_type": "code",
      "metadata": {
        "id": "27KWFP-0b9QT",
        "colab_type": "code",
        "colab": {}
      },
      "source": [
        "train = pd.read_csv('train_iris.csv', index_col=0)\n",
        "test = pd.read_csv('test_iris.csv', index_col=0)\n",
        "X_tr, y_tr = train.drop(columns=['species']), train.species\n",
        "X_ts, y_ts = test.drop(columns=['species']), test.species\n",
        "#X_tr = X_tr.drop(['Unnamed: 0'], axis=1)\n",
        "#X_ts = X_ts.drop(['Unnamed: 0'], axis=1)"
      ],
      "execution_count": 0,
      "outputs": []
    },
    {
      "cell_type": "code",
      "metadata": {
        "id": "6MSS4ZrPiLUu",
        "colab_type": "code",
        "colab": {}
      },
      "source": [
        "X_tr.head(), y_ts.head()"
      ],
      "execution_count": 0,
      "outputs": []
    },
    {
      "cell_type": "code",
      "metadata": {
        "id": "Z4UPAkA2dPbG",
        "colab_type": "code",
        "colab": {}
      },
      "source": [
        "mem = pd.DataFrame()\n",
        "np.random.seed(0)\n",
        "for depth in range(1, 100):\n",
        "    clf = tree.DecisionTreeClassifier(max_depth=depth, criterion='entropy')\n",
        "    clf.fit(X_tr, y_tr)\n",
        "    tr_score = clf.score(X_tr, y_tr)\n",
        "    ts_score = clf.score(X_ts, y_ts)\n",
        "    new_st = pd.DataFrame({'depth': [depth],\n",
        "                           'tr': [tr_score],\n",
        "                           'ts': [ts_score]})\n",
        "    mem = mem.append(new_st)"
      ],
      "execution_count": 0,
      "outputs": []
    },
    {
      "cell_type": "code",
      "metadata": {
        "id": "8I9Jr0qJgWDz",
        "colab_type": "code",
        "outputId": "97ba6bad-d62c-43df-b77a-62de3240bfe7",
        "colab": {
          "base_uri": "https://localhost:8080/",
          "height": 296
        }
      },
      "source": [
        "mem2 = pd.melt(mem, id_vars=['depth'], value_vars=['tr', 'ts'], \n",
        "                           var_name='set_type', value_name='score')\n",
        "sns.lineplot(x=\"depth\", y=\"score\", hue=\"set_type\", data=mem2)"
      ],
      "execution_count": 0,
      "outputs": [
        {
          "output_type": "execute_result",
          "data": {
            "text/plain": [
              "<matplotlib.axes._subplots.AxesSubplot at 0x7fc868faae10>"
            ]
          },
          "metadata": {
            "tags": []
          },
          "execution_count": 127
        },
        {
          "output_type": "display_data",
          "data": {
            "image/png": "[encoded data removed]",
            "text/plain": [
              "<Figure size 432x288 with 1 Axes>"
            ]
          },
          "metadata": {
            "tags": []
          }
        }
      ]
    },
    {
      "cell_type": "code",
      "metadata": {
        "id": "o84RqAqYlB06",
        "colab_type": "code",
        "outputId": "401680b8-80dd-471d-e677-88c30ff9f329",
        "colab": {
          "base_uri": "https://localhost:8080/",
          "height": 380
        }
      },
      "source": [
        "clf = tree.DecisionTreeClassifier(max_depth=10, criterion='entropy')\n",
        "clf.fit(X_tr, y_tr)\n",
        "graph = Source(tree.export_graphviz(clf, out_file=None,\n",
        "                                    feature_names=list(X_tr),\n",
        "                                    filled = True))\n",
        "display(SVG(graph.pipe(format='svg')))"
      ],
      "execution_count": 0,
      "outputs": [
        {
          "output_type": "display_data",
          "data": {
            "text/plain": [
              "<IPython.core.display.SVG object>"
            ],
            "image/svg+xml": "<svg height=\"269pt\" viewBox=\"0.00 0.00 338.00 269.00\" width=\"338pt\" xmlns=\"http://www.w3.org/2000/svg\" xmlns:xlink=\"http://www.w3.org/1999/xlink\">\n<g class=\"graph\" id=\"graph0\" transform=\"scale(1 1) rotate(0) translate(4 265)\">\n<title>Tree</title>\n<polygon fill=\"#ffffff\" points=\"-4,4 -4,-265 334,-265 334,4 -4,4\" stroke=\"transparent\"/>\n<!-- 0 -->\n<g class=\"node\" id=\"node1\">\n<title>0</title>\n<polygon fill=\"#ffffff\" points=\"198.5,-261 64.5,-261 64.5,-193 198.5,-193 198.5,-261\" stroke=\"#000000\"/>\n<text fill=\"#000000\" font-family=\"Times,serif\" font-size=\"14.00\" text-anchor=\"middle\" x=\"131.5\" y=\"-245.8\">petal length &lt;= 2.45</text>\n<text fill=\"#000000\" font-family=\"Times,serif\" font-size=\"14.00\" text-anchor=\"middle\" x=\"131.5\" y=\"-230.8\">entropy = 1.581</text>\n<text fill=\"#000000\" font-family=\"Times,serif\" font-size=\"14.00\" text-anchor=\"middle\" x=\"131.5\" y=\"-215.8\">samples = 100</text>\n<text fill=\"#000000\" font-family=\"Times,serif\" font-size=\"14.00\" text-anchor=\"middle\" x=\"131.5\" y=\"-200.8\">value = [35, 30, 35]</text>\n</g>\n<!-- 1 -->\n<g class=\"node\" id=\"node2\">\n<title>1</title>\n<polygon fill=\"#e58139\" points=\"117,-149.5 0,-149.5 0,-96.5 117,-96.5 117,-149.5\" stroke=\"#000000\"/>\n<text fill=\"#000000\" font-family=\"Times,serif\" font-size=\"14.00\" text-anchor=\"middle\" x=\"58.5\" y=\"-134.3\">entropy = 0.0</text>\n<text fill=\"#000000\" font-family=\"Times,serif\" font-size=\"14.00\" text-anchor=\"middle\" x=\"58.5\" y=\"-119.3\">samples = 35</text>\n<text fill=\"#000000\" font-family=\"Times,serif\" font-size=\"14.00\" text-anchor=\"middle\" x=\"58.5\" y=\"-104.3\">value = [35, 0, 0]</text>\n</g>\n<!-- 0&#45;&gt;1 -->\n<g class=\"edge\" id=\"edge1\">\n<title>0-&gt;1</title>\n<path d=\"M107.5971,-192.9465C99.7108,-181.7113 90.9303,-169.2021 83.0002,-157.9043\" fill=\"none\" stroke=\"#000000\"/>\n<polygon fill=\"#000000\" points=\"85.7405,-155.7163 77.1306,-149.5422 80.0111,-159.7379 85.7405,-155.7163\" stroke=\"#000000\"/>\n<text fill=\"#000000\" font-family=\"Times,serif\" font-size=\"14.00\" text-anchor=\"middle\" x=\"72.8177\" y=\"-170.4673\">True</text>\n</g>\n<!-- 2 -->\n<g class=\"node\" id=\"node3\">\n<title>2</title>\n<polygon fill=\"#ede3fb\" points=\"273.5,-157 135.5,-157 135.5,-89 273.5,-89 273.5,-157\" stroke=\"#000000\"/>\n<text fill=\"#000000\" font-family=\"Times,serif\" font-size=\"14.00\" text-anchor=\"middle\" x=\"204.5\" y=\"-141.8\">Unnamed: 0 &lt;= 99.0</text>\n<text fill=\"#000000\" font-family=\"Times,serif\" font-size=\"14.00\" text-anchor=\"middle\" x=\"204.5\" y=\"-126.8\">entropy = 0.996</text>\n<text fill=\"#000000\" font-family=\"Times,serif\" font-size=\"14.00\" text-anchor=\"middle\" x=\"204.5\" y=\"-111.8\">samples = 65</text>\n<text fill=\"#000000\" font-family=\"Times,serif\" font-size=\"14.00\" text-anchor=\"middle\" x=\"204.5\" y=\"-96.8\">value = [0, 30, 35]</text>\n</g>\n<!-- 0&#45;&gt;2 -->\n<g class=\"edge\" id=\"edge2\">\n<title>0-&gt;2</title>\n<path d=\"M155.4029,-192.9465C161.5791,-184.1475 168.3038,-174.5672 174.739,-165.3993\" fill=\"none\" stroke=\"#000000\"/>\n<polygon fill=\"#000000\" points=\"177.6629,-167.3258 180.5434,-157.13 171.9334,-163.3041 177.6629,-167.3258\" stroke=\"#000000\"/>\n<text fill=\"#000000\" font-family=\"Times,serif\" font-size=\"14.00\" text-anchor=\"middle\" x=\"184.8563\" y=\"-178.0552\">False</text>\n</g>\n<!-- 3 -->\n<g class=\"node\" id=\"node4\">\n<title>3</title>\n<polygon fill=\"#39e581\" points=\"195,-53 78,-53 78,0 195,0 195,-53\" stroke=\"#000000\"/>\n<text fill=\"#000000\" font-family=\"Times,serif\" font-size=\"14.00\" text-anchor=\"middle\" x=\"136.5\" y=\"-37.8\">entropy = 0.0</text>\n<text fill=\"#000000\" font-family=\"Times,serif\" font-size=\"14.00\" text-anchor=\"middle\" x=\"136.5\" y=\"-22.8\">samples = 30</text>\n<text fill=\"#000000\" font-family=\"Times,serif\" font-size=\"14.00\" text-anchor=\"middle\" x=\"136.5\" y=\"-7.8\">value = [0, 30, 0]</text>\n</g>\n<!-- 2&#45;&gt;3 -->\n<g class=\"edge\" id=\"edge3\">\n<title>2-&gt;3</title>\n<path d=\"M180.5257,-88.9777C174.2667,-80.0954 167.5099,-70.5067 161.2133,-61.5711\" fill=\"none\" stroke=\"#000000\"/>\n<polygon fill=\"#000000\" points=\"163.9699,-59.4068 155.3487,-53.2485 158.2479,-63.4389 163.9699,-59.4068\" stroke=\"#000000\"/>\n</g>\n<!-- 4 -->\n<g class=\"node\" id=\"node5\">\n<title>4</title>\n<polygon fill=\"#8139e5\" points=\"330,-53 213,-53 213,0 330,0 330,-53\" stroke=\"#000000\"/>\n<text fill=\"#000000\" font-family=\"Times,serif\" font-size=\"14.00\" text-anchor=\"middle\" x=\"271.5\" y=\"-37.8\">entropy = 0.0</text>\n<text fill=\"#000000\" font-family=\"Times,serif\" font-size=\"14.00\" text-anchor=\"middle\" x=\"271.5\" y=\"-22.8\">samples = 35</text>\n<text fill=\"#000000\" font-family=\"Times,serif\" font-size=\"14.00\" text-anchor=\"middle\" x=\"271.5\" y=\"-7.8\">value = [0, 0, 35]</text>\n</g>\n<!-- 2&#45;&gt;4 -->\n<g class=\"edge\" id=\"edge4\">\n<title>2-&gt;4</title>\n<path d=\"M228.1217,-88.9777C234.2887,-80.0954 240.9461,-70.5067 247.1501,-61.5711\" fill=\"none\" stroke=\"#000000\"/>\n<polygon fill=\"#000000\" points=\"250.1003,-63.4589 252.9285,-53.2485 244.3503,-59.4666 250.1003,-63.4589\" stroke=\"#000000\"/>\n</g>\n</g>\n</svg>"
          },
          "metadata": {
            "tags": []
          }
        }
      ]
    },
    {
      "cell_type": "code",
      "metadata": {
        "id": "grVcHOE85S95",
        "colab_type": "code",
        "colab": {}
      },
      "source": [
        "from sklearn import tree\n",
        "dt = tree.DecisionTreeClassifier(max_depth=5, min_=5)"
      ],
      "execution_count": 0,
      "outputs": []
    },
    {
      "cell_type": "code",
      "metadata": {
        "id": "sbH8cVi08iwM",
        "colab_type": "code",
        "colab": {}
      },
      "source": [
        "import torch\n",
        "w = torch.tensor([[5., 10.], [1., 2.]], requires_grad=True)\n",
        "print(w)\n"
      ],
      "execution_count": 0,
      "outputs": []
    },
    {
      "cell_type": "code",
      "metadata": {
        "id": "pvC4yVb585Ml",
        "colab_type": "code",
        "outputId": "281b37d2-c9d7-46d4-b01e-2c1feed93783",
        "colab": {
          "base_uri": "https://localhost:8080/",
          "height": 54
        }
      },
      "source": [
        "function = (torch.log(torch.log(w + 7))).prod()# put our code here\n",
        "function.backward()\n",
        "\n",
        "print(w.grad)"
      ],
      "execution_count": 0,
      "outputs": [
        {
          "output_type": "stream",
          "text": [
            "tensor([[0.0201, 0.0109],\n",
            "        [0.0449, 0.0351]])\n"
          ],
          "name": "stdout"
        }
      ]
    }
  ]
}